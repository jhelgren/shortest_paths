{
 "cells": [
  {
   "cell_type": "markdown",
   "metadata": {},
   "source": [
    "## Shortest Paths with NetworkX and OpenStreetMap Data  \n",
    "### OSM file method, direct import of PDF format\n",
    "\n",
    "This implementation takes the following approach:\n",
    "* Download OpenStreetMap data from Geofabrik, a third party OSM data provider. Data is downloaded in PBF format.\n",
    "* Directly generate a NetworkX graph data structure from the PBF file using osmgraph.\n",
    "* Use a shortest path algorithm already implemented in NetworkX to find the shortest path between two nodes.\n",
    "\n",
    "References:\n",
    "* osmgraph https://github.com/Mapkin/osmgraph.\n",
    "* imposm.parser (required for osmgraph) http://imposm.org/docs/imposm.parser/latest/.\n",
    "* geog (alternative to haversine, which was used in other notebooks) https://github.com/jwass/geog.\n",
    "\n",
    "Additional links to potentially extend functionality shown below:\n",
    "* https://wiki.openstreetmap.org/wiki/Key:name\n",
    "* https://wiki.openstreetmap.org/wiki/Nominatim\n",
    "* https://geopy.readthedocs.io/en/1.11.0/\n",
    "\n",
    "Conclusions:\n",
    "* This method handles larger map areas than the Overpass API and uses a module that seems better developed. It may still be limited in the map areas is can reasonable handle; generating a graph data structure for California didn't seem to work."
   ]
  },
  {
   "cell_type": "code",
   "execution_count": 16,
   "metadata": {
    "collapsed": true
   },
   "outputs": [],
   "source": [
    "import osmgraph\n",
    "import networkx\n",
    "import geog"
   ]
  },
  {
   "cell_type": "code",
   "execution_count": 3,
   "metadata": {
    "collapsed": false
   },
   "outputs": [],
   "source": [
    "delaware = '/Users/jason/code/msan694/osm_data/delaware-latest.osm.pbf'\n",
    "G = osmgraph.parse_file(delaware)"
   ]
  },
  {
   "cell_type": "code",
   "execution_count": 4,
   "metadata": {
    "collapsed": false
   },
   "outputs": [
    {
     "data": {
      "text/plain": [
       "(352611, 704507)"
      ]
     },
     "execution_count": 4,
     "metadata": {},
     "output_type": "execute_result"
    }
   ],
   "source": [
    "G.number_of_nodes(), G.number_of_edges()"
   ]
  },
  {
   "cell_type": "markdown",
   "metadata": {},
   "source": [
    "osmgraph builds the graph object slightly differently than the get_osm_data method. Instead of strings the nodes are represented by long integers and edges include more data."
   ]
  },
  {
   "cell_type": "code",
   "execution_count": 17,
   "metadata": {
    "collapsed": false
   },
   "outputs": [
    {
     "data": {
      "text/plain": [
       "(1492123648L, {'coordinate': (-75.68069760000081, 39.39532369999987)})"
      ]
     },
     "execution_count": 17,
     "metadata": {},
     "output_type": "execute_result"
    }
   ],
   "source": [
    "G.nodes(data=True)[0]"
   ]
  },
  {
   "cell_type": "code",
   "execution_count": 18,
   "metadata": {
    "collapsed": false
   },
   "outputs": [
    {
     "data": {
      "text/plain": [
       "(1492123648L,\n",
       " 1492123354L,\n",
       " {u'alt_name': u'Blackbird Midletown Road',\n",
       "  u'highway': u'secondary',\n",
       "  u'name': u'Summit Bridge Road',\n",
       "  u'nat_name': u'Delaware Route 71',\n",
       "  u'ref': u'DE 71',\n",
       "  u'tiger:cfcc': u'A41',\n",
       "  u'tiger:county': u'New Castle, DE',\n",
       "  u'tiger:name_base': u'Summit Bridge',\n",
       "  u'tiger:name_base_1': u'Blackbird Midletown',\n",
       "  u'tiger:name_type': u'Rd',\n",
       "  u'tiger:name_type_1': u'Rd'})"
      ]
     },
     "execution_count": 18,
     "metadata": {},
     "output_type": "execute_result"
    }
   ],
   "source": [
    "G.edges(data=True)[0]"
   ]
  },
  {
   "cell_type": "code",
   "execution_count": null,
   "metadata": {
    "collapsed": true
   },
   "outputs": [],
   "source": []
  }
 ],
 "metadata": {
  "kernelspec": {
   "display_name": "Python 2",
   "language": "python",
   "name": "python2"
  },
  "language_info": {
   "codemirror_mode": {
    "name": "ipython",
    "version": 2
   },
   "file_extension": ".py",
   "mimetype": "text/x-python",
   "name": "python",
   "nbconvert_exporter": "python",
   "pygments_lexer": "ipython2",
   "version": "2.7.10"
  }
 },
 "nbformat": 4,
 "nbformat_minor": 0
}
