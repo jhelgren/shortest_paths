{
 "cells": [
  {
   "cell_type": "markdown",
   "metadata": {},
   "source": [
    "## Shortest Paths with NetworkX and OpenStreetMap Data  \n",
    "### OSM file method, direct import of PDF format\n",
    "\n",
    "This implementation takes the following approach:\n",
    "* Download OpenStreetMap data from Geofabrik, a third party OSM data provider. Data is downloaded in PBF format.\n",
    "* Directly generate a NetworkX graph data structure from the PBF file using osmgraph.\n",
    "* Use a shortest path algorithm already implemented in NetworkX to find the shortest path between two nodes.\n",
    "\n",
    "References:\n",
    "* osmgraph https://github.com/Mapkin/osmgraph.\n",
    "* imposm.parser (required for osmgraph) http://imposm.org/docs/imposm.parser/latest/.\n",
    "* geog (alternative to haversine, which was used in other notebooks) https://github.com/jwass/geog.\n",
    "\n",
    "Additional links to potentially extend functionality shown below:\n",
    "* https://wiki.openstreetmap.org/wiki/Key:name\n",
    "* https://wiki.openstreetmap.org/wiki/Nominatim\n",
    "* https://geopy.readthedocs.io/en/1.11.0/\n",
    "\n",
    "Conclusions:\n",
    "* This method handles larger map areas than the Overpass API and uses a module that seems better developed. It may still be limited in the map areas is can reasonable handle; generating a graph data structure for California didn't seem to work."
   ]
  },
  {
   "cell_type": "code",
   "execution_count": 70,
   "metadata": {
    "collapsed": false
   },
   "outputs": [
    {
     "name": "stdout",
     "output_type": "stream",
     "text": [
      "Populating the interactive namespace from numpy and matplotlib\n"
     ]
    }
   ],
   "source": [
    "import osmgraph\n",
    "import networkx as nx\n",
    "import geog\n",
    "import pandas as pd\n",
    "from time import time\n",
    "\n",
    "import matplotlib.pyplot as plt\n",
    "%pylab inline"
   ]
  },
  {
   "cell_type": "code",
   "execution_count": 2,
   "metadata": {
    "collapsed": false
   },
   "outputs": [],
   "source": [
    "delaware = '/Users/jason/code/msan694/osm_data/delaware-latest.osm.pbf'\n",
    "G = osmgraph.parse_file(delaware)"
   ]
  },
  {
   "cell_type": "code",
   "execution_count": 3,
   "metadata": {
    "collapsed": false
   },
   "outputs": [
    {
     "data": {
      "text/plain": [
       "(352611, 704507)"
      ]
     },
     "execution_count": 3,
     "metadata": {},
     "output_type": "execute_result"
    }
   ],
   "source": [
    "G.number_of_nodes(), G.number_of_edges()"
   ]
  },
  {
   "cell_type": "markdown",
   "metadata": {},
   "source": [
    "osmgraph builds the graph object slightly differently than the get_osm_data method. Instead of strings the nodes are represented by long integers and edges include more data."
   ]
  },
  {
   "cell_type": "code",
   "execution_count": 17,
   "metadata": {
    "collapsed": false
   },
   "outputs": [
    {
     "data": {
      "text/plain": [
       "(1492123648L, {'coordinate': (-75.68069760000081, 39.39532369999987)})"
      ]
     },
     "execution_count": 17,
     "metadata": {},
     "output_type": "execute_result"
    }
   ],
   "source": [
    "G.nodes(data=True)[0]"
   ]
  },
  {
   "cell_type": "code",
   "execution_count": 18,
   "metadata": {
    "collapsed": false
   },
   "outputs": [
    {
     "data": {
      "text/plain": [
       "(1492123648L,\n",
       " 1492123354L,\n",
       " {u'alt_name': u'Blackbird Midletown Road',\n",
       "  u'highway': u'secondary',\n",
       "  u'name': u'Summit Bridge Road',\n",
       "  u'nat_name': u'Delaware Route 71',\n",
       "  u'ref': u'DE 71',\n",
       "  u'tiger:cfcc': u'A41',\n",
       "  u'tiger:county': u'New Castle, DE',\n",
       "  u'tiger:name_base': u'Summit Bridge',\n",
       "  u'tiger:name_base_1': u'Blackbird Midletown',\n",
       "  u'tiger:name_type': u'Rd',\n",
       "  u'tiger:name_type_1': u'Rd'})"
      ]
     },
     "execution_count": 18,
     "metadata": {},
     "output_type": "execute_result"
    }
   ],
   "source": [
    "G.edges(data=True)[0]"
   ]
  },
  {
   "cell_type": "markdown",
   "metadata": {},
   "source": [
    "### Investigate and verify ways of calculating the distance between two points\n",
    "\n",
    "Compare haversine module to geog module: these modules seem to be using the same formulas although one returns distances in meters and the other in kilometers."
   ]
  },
  {
   "cell_type": "code",
   "execution_count": 51,
   "metadata": {
    "collapsed": true
   },
   "outputs": [],
   "source": [
    "# Choose two nodes on the Delaware map:\n",
    "start_node = long(178641055)\n",
    "end_node = long(178718777)"
   ]
  },
  {
   "cell_type": "code",
   "execution_count": 52,
   "metadata": {
    "collapsed": false
   },
   "outputs": [],
   "source": [
    "lon0 = G.node[start_node]['coordinate'][0]\n",
    "lat0 = G.node[start_node]['coordinate'][1]\n",
    "lon1 = G.node[end_node]['coordinate'][0]\n",
    "lat1 = G.node[end_node]['coordinate'][1]"
   ]
  },
  {
   "cell_type": "markdown",
   "metadata": {},
   "source": [
    "Latitude is a North-South coordinate. Positive latitude is north of the equator. Longitude is an East-West coordinate. Negative longitude is west of the Prime Meridian in Greenwich, England."
   ]
  },
  {
   "cell_type": "code",
   "execution_count": 54,
   "metadata": {
    "collapsed": false
   },
   "outputs": [
    {
     "data": {
      "text/plain": [
       "(-75.55755480000022, 39.744886500000156)"
      ]
     },
     "execution_count": 54,
     "metadata": {},
     "output_type": "execute_result"
    }
   ],
   "source": [
    "lon0, lat0"
   ]
  },
  {
   "cell_type": "code",
   "execution_count": 15,
   "metadata": {
    "collapsed": true
   },
   "outputs": [],
   "source": [
    "from haversine import haversine"
   ]
  },
  {
   "cell_type": "code",
   "execution_count": 56,
   "metadata": {
    "collapsed": false
   },
   "outputs": [
    {
     "data": {
      "text/plain": [
       "138.9108489766526"
      ]
     },
     "execution_count": 56,
     "metadata": {},
     "output_type": "execute_result"
    }
   ],
   "source": [
    "# haversine points should be ordered (latitude, longitude).\n",
    "haversine((lat0, lon0), (lat1, lon1), miles = False)"
   ]
  },
  {
   "cell_type": "code",
   "execution_count": 55,
   "metadata": {
    "collapsed": false
   },
   "outputs": [
    {
     "data": {
      "text/plain": [
       "138910.8489766526"
      ]
     },
     "execution_count": 55,
     "metadata": {},
     "output_type": "execute_result"
    }
   ],
   "source": [
    "# geog.distance points should be ordered (longitude, latitude).\n",
    "geog.distance((lon0, lat0), (lon1, lat1))"
   ]
  },
  {
   "cell_type": "code",
   "execution_count": 21,
   "metadata": {
    "collapsed": true
   },
   "outputs": [],
   "source": [
    "def calc_distance(node0, node1):\n",
    "    # Return distance between two nodes in meters\n",
    "    lat0 = node0['coordinate'][1]\n",
    "    lon0 = node0['coordinate'][0]\n",
    "    lat1 = node1['coordinate'][1]\n",
    "    lon1 = node1['coordinate'][0]\n",
    "    return geog.distance((lon0, lat0), (lon1, lat1))   "
   ]
  },
  {
   "cell_type": "code",
   "execution_count": 22,
   "metadata": {
    "collapsed": false
   },
   "outputs": [
    {
     "data": {
      "text/plain": [
       "138910.8489766526"
      ]
     },
     "execution_count": 22,
     "metadata": {},
     "output_type": "execute_result"
    }
   ],
   "source": [
    "calc_distance(G.node[start_node], G.node[end_node])"
   ]
  },
  {
   "cell_type": "markdown",
   "metadata": {},
   "source": [
    "Now pick two points in Delaware. Find the distance between them based on their coordinates and compare to the [Great Circle Mapper](http://www.gcmap.com/). According to the Great Circle Mapper the distance between airports ILG and GED is 112,086 m. There's minimal difference in the results."
   ]
  },
  {
   "cell_type": "raw",
   "metadata": {},
   "source": [
    "North: Wilmington Airport ILG 39.6784459,-75.6063154\n",
    "South: Sussex County Airport GED 38.6887426,-75.3602736\n",
    "Likely endpoint nodes based on manual inspection of OSM routing: 1237277400, 178755464"
   ]
  },
  {
   "cell_type": "code",
   "execution_count": 31,
   "metadata": {
    "collapsed": false
   },
   "outputs": [
    {
     "data": {
      "text/plain": [
       "(112074.41621131547, -0.010334732869872815)"
      ]
     },
     "execution_count": 31,
     "metadata": {},
     "output_type": "execute_result"
    }
   ],
   "source": [
    "ILG_coords = (-75.6063154, 39.6784459)\n",
    "GED_coords = (-75.3602736, 38.6887426)\n",
    "ILG_GED_dist = geog.distance(ILG_coords, GED_coords)\n",
    "ILG_GED_dist, (ILG_GED_dist - 112086) / 112086 * 100"
   ]
  },
  {
   "cell_type": "code",
   "execution_count": 32,
   "metadata": {
    "collapsed": true
   },
   "outputs": [],
   "source": [
    "ILG_nearby_node = long(1237277400)\n",
    "GED_nearby_node = long(178755464)"
   ]
  },
  {
   "cell_type": "markdown",
   "metadata": {},
   "source": [
    "The distance between the likely endpoint nodes is different because these nodes aren't the same as teh airport node. These nodes are on nearby roads. These nodes should be used for example shortest path calculations for the Delaware example."
   ]
  },
  {
   "cell_type": "code",
   "execution_count": 34,
   "metadata": {
    "collapsed": false
   },
   "outputs": [
    {
     "data": {
      "text/plain": [
       "112263.95784317411"
      ]
     },
     "execution_count": 34,
     "metadata": {},
     "output_type": "execute_result"
    }
   ],
   "source": [
    "calc_distance(G.node[ILG_nearby_node], G.node[GED_nearby_node])"
   ]
  },
  {
   "cell_type": "markdown",
   "metadata": {},
   "source": [
    "### Assign edge weights\n",
    "Iterate through the edges in the graph and assign weights."
   ]
  },
  {
   "cell_type": "code",
   "execution_count": 39,
   "metadata": {
    "collapsed": false
   },
   "outputs": [],
   "source": [
    "for node0, node1 in G.edges_iter():\n",
    "    G[node0][node1]['distance'] = calc_distance(G.node[node0], G.node[node1])"
   ]
  },
  {
   "cell_type": "markdown",
   "metadata": {},
   "source": [
    "### Export edge list to CSV (for processing in Spark or Hive)"
   ]
  },
  {
   "cell_type": "code",
   "execution_count": 45,
   "metadata": {
    "collapsed": false
   },
   "outputs": [],
   "source": [
    "def process_edgelist(edge):\n",
    "    return (edge[0], edge[1], edge[2]['distance'])\n",
    "edgelist = map(process_edgelist, nx.to_edgelist(G))\n",
    "edgelist_df = pd.DataFrame.from_records(edgelist, columns=['node0', 'node1', 'distance'])\n",
    "edgelist_df.to_csv('edgelist.csv.gz', header=False, index=False, compression='gzip')"
   ]
  },
  {
   "cell_type": "markdown",
   "metadata": {},
   "source": [
    "### Calculate a shortest path with Dijkstra's algorithm\n",
    "[Reference path](https://www.openstreetmap.org/directions?engine=osrm_car&route=39.6780%2C-75.6060%3B38.6890%2C-75.3600#map=9/39.1908/-75.5214) from OpenStreetMap."
   ]
  },
  {
   "cell_type": "code",
   "execution_count": 74,
   "metadata": {
    "collapsed": false
   },
   "outputs": [
    {
     "name": "stdout",
     "output_type": "stream",
     "text": [
      "124740.216185 1.64835882187\n"
     ]
    }
   ],
   "source": [
    "t0 = time()\n",
    "path_length = nx.dijkstra_path_length(G, ILG_nearby_node, GED_nearby_node, weight='distance')\n",
    "print path_length, time() - t0"
   ]
  },
  {
   "cell_type": "code",
   "execution_count": 75,
   "metadata": {
    "collapsed": false
   },
   "outputs": [
    {
     "name": "stdout",
     "output_type": "stream",
     "text": [
      "7.73369288445\n"
     ]
    }
   ],
   "source": [
    "t0 = time()\n",
    "path = nx.dijkstra_path(G, ILG_nearby_node, GED_nearby_node, weight='distance')\n",
    "print time() - t0"
   ]
  },
  {
   "cell_type": "code",
   "execution_count": 58,
   "metadata": {
    "collapsed": true
   },
   "outputs": [],
   "source": [
    "ends = (ILG_nearby_node, GED_nearby_node)"
   ]
  },
  {
   "cell_type": "code",
   "execution_count": 65,
   "metadata": {
    "collapsed": true
   },
   "outputs": [],
   "source": [
    "def node_coords(G, node):\n",
    "    lat = G.node[node]['coordinate'][1]\n",
    "    lon = G.node[node]['coordinate'][0]\n",
    "    return {'lat': lat, 'lon':lon}"
   ]
  },
  {
   "cell_type": "code",
   "execution_count": 69,
   "metadata": {
    "collapsed": false
   },
   "outputs": [
    {
     "data": {
      "image/png": "[encoded data removed]",
      "text/plain": [
       "<matplotlib.figure.Figure at 0x10c8ce350>"
      ]
     },
     "metadata": {},
     "output_type": "display_data"
    }
   ],
   "source": [
    "fig = plt.figure(figsize=(10, 10))\n",
    "ax = fig.add_subplot(1, 1, 1)\n",
    "ax.plot([node_coords(G, n)['lon'] for n in G], [node_coords(G, n)['lat'] for n in G], '.')\n",
    "ax.plot([node_coords(G, n)['lon'] for n in path], [node_coords(G, n)['lat'] for n in path], 'o')\n",
    "ax.plot([node_coords(G, n)['lon'] for n in ends], [node_coords(G, n)['lat'] for n in ends], 'o')\n",
    "ax.set_aspect(aspect='equal')"
   ]
  },
  {
   "cell_type": "code",
   "execution_count": null,
   "metadata": {
    "collapsed": true
   },
   "outputs": [],
   "source": []
  }
 ],
 "metadata": {
  "kernelspec": {
   "display_name": "Python 2",
   "language": "python",
   "name": "python2"
  },
  "language_info": {
   "codemirror_mode": {
    "name": "ipython",
    "version": 2
   },
   "file_extension": ".py",
   "mimetype": "text/x-python",
   "name": "python",
   "nbconvert_exporter": "python",
   "pygments_lexer": "ipython2",
   "version": "2.7.10"
  }
 },
 "nbformat": 4,
 "nbformat_minor": 0
}
