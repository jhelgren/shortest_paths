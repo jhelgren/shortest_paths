{
 "cells": [
  {
   "cell_type": "markdown",
   "metadata": {},
   "source": [
    "## Shortest Paths and OpenStreetMap Data  \n",
    "### Overpass API Method\n",
    "\n",
    "This implementation takes the following approach:\n",
    "* Download data with the get_osm_data module, which uses the Overpass API. The Overpass API may be limited to relatively small map areas.\n",
    "* Convert downloaded data into a NetworkX graph object with the get_osm_data module.\n",
    "* Use a shortest path algorithm already implemented in NetworkX to find the shortest path between two nodes.\n",
    "\n",
    "References:\n",
    "* NetworkX tutorial https://networkx.readthedocs.org/en/latest/tutorial/tutorial.html#nodes.\n",
    "* Possible alternative methods to query Overpass API: https://github.com/mvexel/overpass-api-python-wrapper and https://github.com/DinoTools/python-overpy.\n",
    "\n",
    "Conclusions:\n",
    "* Obtaining data using the Overpass API isn't likely viable for all but small map areas."
   ]
  },
  {
   "cell_type": "code",
   "execution_count": 2,
   "metadata": {
    "collapsed": false
   },
   "outputs": [
    {
     "name": "stdout",
     "output_type": "stream",
     "text": [
      "Populating the interactive namespace from numpy and matplotlib\n"
     ]
    }
   ],
   "source": [
    "import get_osm_data\n",
    "import networkx as nx\n",
    "from haversine import haversine\n",
    "\n",
    "import matplotlib.pyplot as plt\n",
    "%pylab inline"
   ]
  },
  {
   "cell_type": "markdown",
   "metadata": {},
   "source": [
    "### Download a very small example map from OSM\n",
    "\n",
    "Use code in get_osm_data to (1) download an OSM file using the Overpass API and then (2) create a NetworkX graph object from the downloaded data."
   ]
  },
  {
   "cell_type": "code",
   "execution_count": 8,
   "metadata": {
    "collapsed": true
   },
   "outputs": [],
   "source": [
    "roads = 'motorway|trunk|primary|secondary|tertiary|road|residential|service|motorway_link|trunk_link|primary_link|secondary_link|teriary_link'\n",
    "coords = (-88.82289, 43.49353, -88.81792, 43.49563)"
   ]
  },
  {
   "cell_type": "markdown",
   "metadata": {},
   "source": [
    "OSM map for the example coordinates:\n",
    "https://www.openstreetmap.org/#map=18/43.49461/-88.82063"
   ]
  },
  {
   "cell_type": "code",
   "execution_count": 9,
   "metadata": {
    "collapsed": false
   },
   "outputs": [
    {
     "name": "stdout",
     "output_type": "stream",
     "text": [
      "trying to download osm data from -88.82289 43.49353 -88.81792 43.49563 with highways of categoriesmotorway|trunk|primary|secondary|tertiary|road|residential|service|motorway_link|trunk_link|primary_link|secondary_link|teriary_link\n",
      "downloading osm data from -88.82289 43.49353 -88.81792 43.49563 with highways of categoriesmotorway|trunk|primary|secondary|tertiary|road|residential|service|motorway_link|trunk_link|primary_link|secondary_link|teriary_link\n"
     ]
    }
   ],
   "source": [
    "args = coords + (roads,)\n",
    "map = get_osm_data.download_osm(*args)"
   ]
  },
  {
   "cell_type": "code",
   "execution_count": 10,
   "metadata": {
    "collapsed": false
   },
   "outputs": [],
   "source": [
    "G = get_osm_data.read_osm(map)"
   ]
  },
  {
   "cell_type": "markdown",
   "metadata": {},
   "source": [
    "### Take a look at the graph"
   ]
  },
  {
   "cell_type": "code",
   "execution_count": 11,
   "metadata": {
    "collapsed": false
   },
   "outputs": [
    {
     "data": {
      "text/plain": [
       "(55, 112)"
      ]
     },
     "execution_count": 11,
     "metadata": {},
     "output_type": "execute_result"
    }
   ],
   "source": [
    "# Basic info about the graph:\n",
    "G.number_of_nodes(), G.number_of_edges()"
   ]
  },
  {
   "cell_type": "code",
   "execution_count": 12,
   "metadata": {
    "collapsed": false
   },
   "outputs": [
    {
     "data": {
      "image/png": "[encoded data removed]",
      "text/plain": [
       "<matplotlib.figure.Figure at 0x112a2a910>"
      ]
     },
     "metadata": {},
     "output_type": "display_data"
    }
   ],
   "source": [
    "# Plot the data: the OSM map linked above is basically recognizable.\n",
    "# Longitude is an East-West coordinate\n",
    "# Latitude is North-South coordinate\n",
    "fig = plt.figure(figsize=(20, 20))  # a new figure window\n",
    "ax = fig.add_subplot(1, 1, 1)  # specify (nrows, ncols, axnum)\n",
    "ax.plot([G.node[n]['lon'] for n in G], [G.node[n]['lat'] for n in G], '.')\n",
    "ax.set_aspect(aspect='equal')"
   ]
  },
  {
   "cell_type": "markdown",
   "metadata": {},
   "source": [
    "### Assign edge weights\n",
    "Assign a weight to every edge in the graph. This is probably a really inefficient way of assigning edge weights. A better way might be to assign a weight only if the edge is examined in a shortest paths algorithm."
   ]
  },
  {
   "cell_type": "code",
   "execution_count": 13,
   "metadata": {
    "collapsed": false
   },
   "outputs": [],
   "source": [
    "def calc_distance(node0, node1):\n",
    "    # Return distance between two nodes in meters\n",
    "    lat0 = node0['lat']\n",
    "    lon0 = node0['lon']\n",
    "    lat1 = node1['lat']\n",
    "    lon1 = node1['lon']\n",
    "    return 1000* haversine((lat0, lon0), (lat1, lon1), miles = False)    "
   ]
  },
  {
   "cell_type": "code",
   "execution_count": 14,
   "metadata": {
    "collapsed": false
   },
   "outputs": [],
   "source": [
    "for node0, node1 in G.edges_iter():\n",
    "    G[node0][node1]['distance'] = calc_distance(G.node[node0], G.node[node1])"
   ]
  },
  {
   "cell_type": "markdown",
   "metadata": {},
   "source": [
    "### Find a shortest path\n",
    "\n",
    "Currently the nodes don't have meaningful names, i.e. there aren't nodes with names of cities, intersections, etc. Nodes must be accessed by their unique ids."
   ]
  },
  {
   "cell_type": "code",
   "execution_count": 22,
   "metadata": {
    "collapsed": true
   },
   "outputs": [],
   "source": [
    "start_node = '2762651306'\n",
    "end_node = '230757310'\n",
    "ends = (start_node, end_node)"
   ]
  },
  {
   "cell_type": "code",
   "execution_count": 23,
   "metadata": {
    "collapsed": false
   },
   "outputs": [],
   "source": [
    "path = nx.dijkstra_path(G, start_node, end_node, weight='distance')"
   ]
  },
  {
   "cell_type": "code",
   "execution_count": 24,
   "metadata": {
    "collapsed": false
   },
   "outputs": [
    {
     "data": {
      "text/plain": [
       "330.2584885719308"
      ]
     },
     "execution_count": 24,
     "metadata": {},
     "output_type": "execute_result"
    }
   ],
   "source": [
    "path_length = nx.dijkstra_path_length(G, start_node, end_node, weight='distance')\n",
    "path_length"
   ]
  },
  {
   "cell_type": "code",
   "execution_count": 25,
   "metadata": {
    "collapsed": false
   },
   "outputs": [
    {
     "data": {
      "image/png": "[encoded data removed]",
      "text/plain": [
       "<matplotlib.figure.Figure at 0x113d99e90>"
      ]
     },
     "metadata": {},
     "output_type": "display_data"
    }
   ],
   "source": [
    "fig = plt.figure(figsize=(20, 20))  # a new figure window\n",
    "ax = fig.add_subplot(1, 1, 1)  # specify (nrows, ncols, axnum)\n",
    "ax.plot([G.node[n]['lon'] for n in G], [G.node[n]['lat'] for n in G], '.')\n",
    "ax.plot([G.node[n]['lon'] for n in path], [G.node[n]['lat'] for n in path], 'o')\n",
    "ax.plot([G.node[n]['lon'] for n in ends], [G.node[n]['lat'] for n in ends], 'o')\n",
    "ax.set_aspect(aspect='equal')"
   ]
  },
  {
   "cell_type": "markdown",
   "metadata": {},
   "source": [
    "This solution is deceiving because it seems like the green points don't indicate the shortest path between the red points. Look at the OSM [map link](https://www.openstreetmap.org/#map=18/43.49461/-88.82063) to see why! (The leftmost vertical street doesn't go through; this would be obvious if the plot above showed edges.)"
   ]
  },
  {
   "cell_type": "code",
   "execution_count": null,
   "metadata": {
    "collapsed": true
   },
   "outputs": [],
   "source": []
  }
 ],
 "metadata": {
  "kernelspec": {
   "display_name": "Python 2",
   "language": "python",
   "name": "python2"
  },
  "language_info": {
   "codemirror_mode": {
    "name": "ipython",
    "version": 2
   },
   "file_extension": ".py",
   "mimetype": "text/x-python",
   "name": "python",
   "nbconvert_exporter": "python",
   "pygments_lexer": "ipython2",
   "version": "2.7.10"
  }
 },
 "nbformat": 4,
 "nbformat_minor": 0
}
