{
 "cells": [
  {
   "cell_type": "code",
   "execution_count": 1,
   "metadata": {
    "collapsed": true
   },
   "outputs": [],
   "source": [
    "# IPYTHON_OPTS=\"notebook spark.ipynb inline\" ~/spark-1.6.0/bin/pyspark\n",
    "\n",
    "gdata = {'a':{'f': 14}, 'a': {'c': 9}, 'a': {'b':7}, 'c' :{'d':  11}, 'c': {'f': 2}, 'c': {'a':9}, 'c': {'b': 10}, 'b': {'d': 15},'b': {'a': 7}, 'b': {'c': 10}, 'e': {'d': 6}, 'e': {'f': 9}, 'd': {'c': 11}, 'd': {'e': 6}, 'd': {'b':15}, 'f': {'a':14}, 'f': {'c': 2}, 'f': {'e': 9}}"
   ]
  },
  {
   "cell_type": "code",
   "execution_count": 46,
   "metadata": {
    "collapsed": false
   },
   "outputs": [
    {
     "name": "stdout",
     "output_type": "stream",
     "text": [
      "[{'to': 1492123354, 'from': 1492123648, 'weight': 17.2556233905}, {'to': 1492123645, 'from': 1492123648, 'weight': 23.4996768929}, {'to': 1492123646, 'from': 1492123648, 'weight': 13.9847237894}, {'to': 1492123642, 'from': 1492123649, 'weight': 5.67260765562}, {'to': 1492123644, 'from': 1492123649, 'weight': 6.16630137613}, {'to': 2867855366, 'from': 2867855362, 'weight': 6.86085984941}, {'to': 2867855399, 'from': 2867855362, 'weight': 6.55430800833}, {'to': 2867855393, 'from': 2867855363, 'weight': 3.49327463699}, {'to': 2867855307, 'from': 2867855363, 'weight': 2.88642569255}, {'to': 2867855361, 'from': 2867855364, 'weight': 10.6862626623}]\n"
     ]
    }
   ],
   "source": [
    "import numpy as np\n",
    "data = sc.textFile('/Users/ksiegler/Documents/USFClasses/Distcomp/edgelist.csv', minPartitions=10)\n",
    "\n",
    "# data = sc.textFile('edgelist.csv')\n",
    "\n",
    "\n",
    "def parse(line):\n",
    "    pieces = line.split(',')\n",
    "    from_ = int(pieces[0])\n",
    "    to_ = int(pieces[1])\n",
    "    weight = float(pieces[2])\n",
    "    return {'from': from_, 'to': to_, 'weight': weight}\n",
    "\n",
    "parsed = data.map(parse)\n",
    "print(parsed.take(10))"
   ]
  },
  {
   "cell_type": "code",
   "execution_count": 16,
   "metadata": {
    "collapsed": false
   },
   "outputs": [
    {
     "data": {
      "text/plain": [
       "[1492123648,\n",
       " 2867855360,\n",
       " 2867855362,\n",
       " 2867855364,\n",
       " 2867855366,\n",
       " 2867855368,\n",
       " 2867855370,\n",
       " 2867855372,\n",
       " 2009595906,\n",
       " 2867855374]"
      ]
     },
     "execution_count": 16,
     "metadata": {},
     "output_type": "execute_result"
    }
   ],
   "source": [
    "nodes = parsed.map(lambda x: x['from']).distinct()\n",
    "nodes.take(10)"
   ]
  },
  {
   "cell_type": "code",
   "execution_count": 17,
   "metadata": {
    "collapsed": false
   },
   "outputs": [
    {
     "data": {
      "text/plain": [
       "[(1492123648, inf),\n",
       " (2867855360, inf),\n",
       " (2867855362, inf),\n",
       " (2867855364, inf),\n",
       " (2867855366, inf),\n",
       " (2867855368, inf),\n",
       " (2867855370, inf),\n",
       " (2867855372, inf),\n",
       " (2009595906, inf),\n",
       " (2867855374, inf)]"
      ]
     },
     "execution_count": 17,
     "metadata": {},
     "output_type": "execute_result"
    }
   ],
   "source": [
    "dist = nodes.map(lambda x: (x, np.inf))\n",
    "dist.take(10)"
   ]
  },
  {
   "cell_type": "code",
   "execution_count": 19,
   "metadata": {
    "collapsed": false
   },
   "outputs": [],
   "source": [
    "unvisited = dist.collectAsMap()"
   ]
  },
  {
   "cell_type": "code",
   "execution_count": 20,
   "metadata": {
    "collapsed": true
   },
   "outputs": [],
   "source": [
    "start_node = 1237277400\n",
    "end_node = 178755464\n"
   ]
  },
  {
   "cell_type": "code",
   "execution_count": 21,
   "metadata": {
    "collapsed": true
   },
   "outputs": [],
   "source": [
    "distance = 0"
   ]
  },
  {
   "cell_type": "code",
   "execution_count": 22,
   "metadata": {
    "collapsed": true
   },
   "outputs": [],
   "source": [
    "visited = dict()"
   ]
  },
  {
   "cell_type": "code",
   "execution_count": 23,
   "metadata": {
    "collapsed": true
   },
   "outputs": [],
   "source": [
    "visited[start_node] = 0"
   ]
  },
  {
   "cell_type": "code",
   "execution_count": 24,
   "metadata": {
    "collapsed": true
   },
   "outputs": [],
   "source": [
    "current_node = start_node"
   ]
  },
  {
   "cell_type": "code",
   "execution_count": 25,
   "metadata": {
    "collapsed": false
   },
   "outputs": [],
   "source": [
    "get_neighbs = parsed.filter(lambda x: x['from'] == current_node)"
   ]
  },
  {
   "cell_type": "code",
   "execution_count": 26,
   "metadata": {
    "collapsed": false
   },
   "outputs": [],
   "source": [
    "non_vis = get_neighbs.filter(lambda x: x['to'] in unvisited.keys())"
   ]
  },
  {
   "cell_type": "code",
   "execution_count": 28,
   "metadata": {
    "collapsed": false
   },
   "outputs": [
    {
     "ename": "AttributeError",
     "evalue": "'list' object has no attribute 'take'",
     "output_type": "error",
     "traceback": [
      "\u001b[0;31m---------------------------------------------------------------------------\u001b[0m",
      "\u001b[0;31mAttributeError\u001b[0m                            Traceback (most recent call last)",
      "\u001b[0;32m<ipython-input-28-8060df4e35a2>\u001b[0m in \u001b[0;36m<module>\u001b[0;34m()\u001b[0m\n\u001b[1;32m      1\u001b[0m \u001b[0mget_weights\u001b[0m \u001b[0;34m=\u001b[0m \u001b[0mnon_vis\u001b[0m\u001b[0;34m.\u001b[0m\u001b[0mcollect\u001b[0m\u001b[0;34m(\u001b[0m\u001b[0;34m)\u001b[0m\u001b[0;34m\u001b[0m\u001b[0m\n\u001b[0;32m----> 2\u001b[0;31m \u001b[0mget_weights\u001b[0m\u001b[0;34m.\u001b[0m\u001b[0mtake\u001b[0m\u001b[0;34m(\u001b[0m\u001b[0;36m10\u001b[0m\u001b[0;34m)\u001b[0m\u001b[0;34m\u001b[0m\u001b[0m\n\u001b[0m",
      "\u001b[0;31mAttributeError\u001b[0m: 'list' object has no attribute 'take'"
     ]
    }
   ],
   "source": [
    "get_weights = non_vis.collect()"
   ]
  },
  {
   "cell_type": "code",
   "execution_count": 23,
   "metadata": {
    "collapsed": false
   },
   "outputs": [],
   "source": [
    "for i in range(len(get_weights)):\n",
    "    new_distance = get_weights[i]['weight'] + distance\n",
    "    unvisited[get_weights[i]['to']] = new_distance"
   ]
  },
  {
   "cell_type": "code",
   "execution_count": 24,
   "metadata": {
    "collapsed": false
   },
   "outputs": [],
   "source": [
    "del unvisited[current_node]"
   ]
  },
  {
   "cell_type": "code",
   "execution_count": 25,
   "metadata": {
    "collapsed": true
   },
   "outputs": [],
   "source": [
    "candidates = [node for node in unvisited.items()]"
   ]
  },
  {
   "cell_type": "code",
   "execution_count": 26,
   "metadata": {
    "collapsed": false
   },
   "outputs": [],
   "source": [
    "candidates.sort(key=lambda tup: tup[1])"
   ]
  },
  {
   "cell_type": "code",
   "execution_count": 27,
   "metadata": {
    "collapsed": false
   },
   "outputs": [],
   "source": [
    "current_node, distance = candidates[0]"
   ]
  },
  {
   "cell_type": "code",
   "execution_count": 28,
   "metadata": {
    "collapsed": false
   },
   "outputs": [
    {
     "data": {
      "text/plain": [
       "(u'b', 7)"
      ]
     },
     "execution_count": 28,
     "metadata": {},
     "output_type": "execute_result"
    }
   ],
   "source": [
    "current_node, distance"
   ]
  },
  {
   "cell_type": "code",
   "execution_count": 48,
   "metadata": {
    "collapsed": false
   },
   "outputs": [
    {
     "name": "stdout",
     "output_type": "stream",
     "text": [
      "<module 'time' from '/Users/ksiegler/anaconda/lib/python2.7/lib-dynload/time.so'>\n",
      "(1237277400, 0)\n"
     ]
    },
    {
     "ename": "TypeError",
     "evalue": "filter() got an unexpected keyword argument 'numPartitions'",
     "output_type": "error",
     "traceback": [
      "\u001b[0;31m---------------------------------------------------------------------------\u001b[0m",
      "\u001b[0;31mTypeError\u001b[0m                                 Traceback (most recent call last)",
      "\u001b[0;32m<ipython-input-48-114f27fe7e40>\u001b[0m in \u001b[0;36m<module>\u001b[0;34m()\u001b[0m\n\u001b[1;32m     28\u001b[0m \u001b[0;32mprint\u001b[0m\u001b[0;34m(\u001b[0m\u001b[0mcurrent_node\u001b[0m\u001b[0;34m,\u001b[0m \u001b[0mdistance\u001b[0m\u001b[0;34m)\u001b[0m\u001b[0;34m\u001b[0m\u001b[0m\n\u001b[1;32m     29\u001b[0m \u001b[0;32mwhile\u001b[0m \u001b[0mcurrent_node\u001b[0m \u001b[0;34m!=\u001b[0m \u001b[0mend_node\u001b[0m\u001b[0;34m:\u001b[0m\u001b[0;34m\u001b[0m\u001b[0m\n\u001b[0;32m---> 30\u001b[0;31m     \u001b[0mget_neighbs\u001b[0m \u001b[0;34m=\u001b[0m \u001b[0mparsed\u001b[0m\u001b[0;34m.\u001b[0m\u001b[0mfilter\u001b[0m\u001b[0;34m(\u001b[0m\u001b[0;32mlambda\u001b[0m \u001b[0mx\u001b[0m\u001b[0;34m:\u001b[0m \u001b[0mx\u001b[0m\u001b[0;34m[\u001b[0m\u001b[0;34m'from'\u001b[0m\u001b[0;34m]\u001b[0m \u001b[0;34m==\u001b[0m \u001b[0mcurrent_node\u001b[0m\u001b[0;34m,\u001b[0m \u001b[0mnumPartitions\u001b[0m \u001b[0;34m=\u001b[0m \u001b[0;36m6\u001b[0m\u001b[0;34m)\u001b[0m\u001b[0;34m\u001b[0m\u001b[0m\n\u001b[0m\u001b[1;32m     31\u001b[0m     \u001b[0mnon_vis\u001b[0m \u001b[0;34m=\u001b[0m \u001b[0mget_neighbs\u001b[0m\u001b[0;34m.\u001b[0m\u001b[0mfilter\u001b[0m\u001b[0;34m(\u001b[0m\u001b[0;32mlambda\u001b[0m \u001b[0mx\u001b[0m\u001b[0;34m:\u001b[0m \u001b[0mx\u001b[0m\u001b[0;34m[\u001b[0m\u001b[0;34m'to'\u001b[0m\u001b[0;34m]\u001b[0m \u001b[0;32min\u001b[0m \u001b[0munvisited\u001b[0m\u001b[0;34m.\u001b[0m\u001b[0mkeys\u001b[0m\u001b[0;34m(\u001b[0m\u001b[0;34m)\u001b[0m\u001b[0;34m,\u001b[0m \u001b[0mnumPartitions\u001b[0m \u001b[0;34m=\u001b[0m \u001b[0;36m6\u001b[0m\u001b[0;34m)\u001b[0m\u001b[0;34m\u001b[0m\u001b[0m\n\u001b[1;32m     32\u001b[0m     \u001b[0mget_weights\u001b[0m \u001b[0;34m=\u001b[0m \u001b[0mnon_vis\u001b[0m\u001b[0;34m.\u001b[0m\u001b[0mcollect\u001b[0m\u001b[0;34m(\u001b[0m\u001b[0;34m)\u001b[0m\u001b[0;34m\u001b[0m\u001b[0m\n",
      "\u001b[0;31mTypeError\u001b[0m: filter() got an unexpected keyword argument 'numPartitions'"
     ]
    }
   ],
   "source": [
    "def parse(line):\n",
    "    pieces = line.split(',')\n",
    "    from_ = int(pieces[0])\n",
    "    to_ = int(pieces[1])\n",
    "    weight = float(pieces[2])\n",
    "    return {'from': from_, 'to': to_, 'weight': weight}\n",
    "# from pyspark import SparkConf, SparkContext\n",
    "\n",
    "# conf = SparkConf().setMaster(\"local[*]\")\n",
    "# sc   = SparkContext(conf=conf)\n",
    "parsed = data.map(parse)\n",
    "parsed.cache()\n",
    "# parsed = sc.broadcast(parsed)\n",
    "nodes = parsed.map(lambda x: x['from']).distinct()\n",
    "dist = nodes.map(lambda x: (x, np.inf))\n",
    "unvisited = dist.collectAsMap()\n",
    "start_node = 1237277400\n",
    "end_node = 2404284708\n",
    "distance = 0\n",
    "visited = dict()\n",
    "visited[start_node] = 0\n",
    "current_node = start_node\n",
    "path = []\n",
    "path.append(start_node)\n",
    "import time\n",
    "time1 = time.time()\n",
    "print time\n",
    "print(current_node, distance)\n",
    "while current_node != end_node:\n",
    "    get_neighbs = parsed.filter(lambda x: x['from'] == current_node, numPartitions = 6)\n",
    "    non_vis = get_neighbs.filter(lambda x: x['to'] in unvisited.keys(), numPartitions = 6)\n",
    "    get_weights = non_vis.collect()\n",
    "    for i in range(len(get_weights)):\n",
    "        new_distance = get_weights[i]['weight'] + distance\n",
    "        if unvisited[get_weights[i]['to']] == np.inf or unvisited[get_weights[i]['to']]>new_distance:\n",
    "            unvisited[get_weights[i]['to']] = new_distance\n",
    "    del unvisited[current_node]\n",
    "    candidates = [node for node in unvisited.items() if node[1]]\n",
    "    candidates.sort(key=lambda tup: tup[1])\n",
    "    current_node, distance = candidates[0]\n",
    "    print(current_node, distance)\n",
    "    path.append(current_node)\n",
    "newtime = time.time()\n",
    "total = newtime - time1\n",
    "print(\"Starting from {0} and going to {1}, the path found by Dijkstra's algorithm is\").format(start_node, end_node)\n",
    "print(path)\n",
    "print('with a cost of {0}.').format(distance)\n",
    "print('with a time of {0} seconds').format(total)"
   ]
  },
  {
   "cell_type": "code",
   "execution_count": 30,
   "metadata": {
    "collapsed": false
   },
   "outputs": [
    {
     "data": {
      "text/plain": [
       "(u'e', 20)"
      ]
     },
     "execution_count": 30,
     "metadata": {},
     "output_type": "execute_result"
    }
   ],
   "source": [
    "current_node, distance"
   ]
  },
  {
   "cell_type": "code",
   "execution_count": 31,
   "metadata": {
    "collapsed": false
   },
   "outputs": [
    {
     "data": {
      "text/plain": [
       "{u'd': 20, u'e': 20}"
      ]
     },
     "execution_count": 31,
     "metadata": {},
     "output_type": "execute_result"
    }
   ],
   "source": [
    "unvisited"
   ]
  },
  {
   "cell_type": "code",
   "execution_count": 40,
   "metadata": {
    "collapsed": false
   },
   "outputs": [
    {
     "name": "stdout",
     "output_type": "stream",
     "text": [
      "2\n"
     ]
    }
   ],
   "source": [
    "print(parsed.getNumPartitions())"
   ]
  },
  {
   "cell_type": "code",
   "execution_count": null,
   "metadata": {
    "collapsed": true
   },
   "outputs": [],
   "source": []
  }
 ],
 "metadata": {
  "kernelspec": {
   "display_name": "Python 2",
   "language": "python",
   "name": "python2"
  },
  "language_info": {
   "codemirror_mode": {
    "name": "ipython",
    "version": 2
   },
   "file_extension": ".py",
   "mimetype": "text/x-python",
   "name": "python",
   "nbconvert_exporter": "python",
   "pygments_lexer": "ipython2",
   "version": "2.7.11"
  }
 },
 "nbformat": 4,
 "nbformat_minor": 0
}
