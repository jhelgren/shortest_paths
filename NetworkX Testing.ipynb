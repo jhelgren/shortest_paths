{
 "cells": [
  {
   "cell_type": "markdown",
   "metadata": {},
   "source": [
    "## NetworkX: Creating Graphs, Finding Paths, Exporting Data\n",
    "\n",
    "This notebook demonstrates how to use they Python library NetworkX to find the shortest path in a graph data structure."
   ]
  },
  {
   "cell_type": "code",
   "execution_count": 1,
   "metadata": {
    "collapsed": true
   },
   "outputs": [],
   "source": [
    "import networkx as nx\n",
    "import matplotlib.pyplot as plt\n",
    "import numpy as np\n",
    "%matplotlib inline  "
   ]
  },
  {
   "cell_type": "markdown",
   "metadata": {},
   "source": [
    "### Create a very simple graph using an existing data structure in NetworkX\n",
    "\n",
    "This graph has four nodes, labeled 1, 2, 3, and 4. In this example we'll ultimately want to find the shortest path between nodes 1 and 4. Based on the edge weights the correct path is 1, 2, 4. \n",
    "\n",
    "Note that NetworkX includes methods to draw graphs but they don't seem to work very well, probably because nothing in the graph specification indicates where to put the nodes.\n",
    "\n",
    "<img src=\"simple_graph.jpg\", width=25%, align=left>"
   ]
  },
  {
   "cell_type": "code",
   "execution_count": 2,
   "metadata": {
    "collapsed": true
   },
   "outputs": [],
   "source": [
    "G = nx.Graph()\n",
    "G.add_nodes_from([1, 2, 3, 4])\n",
    "# third element in each tuple is automatically labeled \"weight\".\n",
    "elist=[(1,2,2.0),(1,3,1.0),(2,4,1.0),(3,4,5.0)]\n",
    "G.add_weighted_edges_from(elist)"
   ]
  },
  {
   "cell_type": "markdown",
   "metadata": {},
   "source": [
    "### Now that we have a graph, demonstrate some of the stuff we can do with it with NetworkX:\n",
    "\n",
    "There's more good information here: https://networkx.readthedocs.org/en/latest/tutorial/tutorial.html#nodes. Review this to understand method on directed graphs!"
   ]
  },
  {
   "cell_type": "code",
   "execution_count": 3,
   "metadata": {
    "collapsed": false
   },
   "outputs": [
    {
     "data": {
      "text/plain": [
       "(4, 4)"
      ]
     },
     "execution_count": 3,
     "metadata": {},
     "output_type": "execute_result"
    }
   ],
   "source": [
    "# Get some basic info about the graph:\n",
    "G.number_of_nodes(), G.number_of_edges()"
   ]
  },
  {
   "cell_type": "code",
   "execution_count": 4,
   "metadata": {
    "collapsed": false
   },
   "outputs": [
    {
     "data": {
      "text/plain": [
       "[1, 2, 3, 4]"
      ]
     },
     "execution_count": 4,
     "metadata": {},
     "output_type": "execute_result"
    }
   ],
   "source": [
    "# Find all the nodes:\n",
    "G.nodes()"
   ]
  },
  {
   "cell_type": "code",
   "execution_count": 5,
   "metadata": {
    "collapsed": false
   },
   "outputs": [
    {
     "data": {
      "text/plain": [
       "<dictionary-keyiterator at 0x108a6ff70>"
      ]
     },
     "execution_count": 5,
     "metadata": {},
     "output_type": "execute_result"
    }
   ],
   "source": [
    "# Find all the nodes, but return an iterator.\n",
    "# Returning a list (as above) probably isn't necessary if we're just going to iterate through it.\n",
    "# Can do the same with \"for n in G:\"\n",
    "G.nodes_iter()"
   ]
  },
  {
   "cell_type": "code",
   "execution_count": 6,
   "metadata": {
    "collapsed": false
   },
   "outputs": [
    {
     "data": {
      "text/plain": [
       "[(1, 2), (1, 3), (2, 4), (3, 4)]"
      ]
     },
     "execution_count": 6,
     "metadata": {},
     "output_type": "execute_result"
    }
   ],
   "source": [
    "# Find all the edges:\n",
    "G.edges()"
   ]
  },
  {
   "cell_type": "code",
   "execution_count": 7,
   "metadata": {
    "collapsed": false
   },
   "outputs": [
    {
     "name": "stdout",
     "output_type": "stream",
     "text": [
      "2\n",
      "3\n"
     ]
    }
   ],
   "source": [
    "# Iterate through the neighbors of a given node (in this example, node 1):\n",
    "for nbr in G[1]:\n",
    "    print nbr"
   ]
  },
  {
   "cell_type": "code",
   "execution_count": 8,
   "metadata": {
    "collapsed": false
   },
   "outputs": [
    {
     "data": {
      "text/plain": [
       "[2, 3]"
      ]
     },
     "execution_count": 8,
     "metadata": {},
     "output_type": "execute_result"
    }
   ],
   "source": [
    "G.neighbors(1)"
   ]
  },
  {
   "cell_type": "code",
   "execution_count": 9,
   "metadata": {
    "collapsed": false
   },
   "outputs": [
    {
     "name": "stdout",
     "output_type": "stream",
     "text": [
      "2\n",
      "3\n"
     ]
    }
   ],
   "source": [
    "# networkx.all_neighbors accomplishes the same thing:\n",
    "for nbr in nx.all_neighbors(G, 1):\n",
    "    print nbr"
   ]
  },
  {
   "cell_type": "code",
   "execution_count": 10,
   "metadata": {
    "collapsed": false
   },
   "outputs": [
    {
     "data": {
      "text/plain": [
       "{'weight': 2.0}"
      ]
     },
     "execution_count": 10,
     "metadata": {},
     "output_type": "execute_result"
    }
   ],
   "source": [
    "# Get the attributes associated with a particuar edge.\n",
    "# If the specified edge doesn't exist, returns None or the specified default value.\n",
    "G.get_edge_data(1,2)"
   ]
  },
  {
   "cell_type": "code",
   "execution_count": 11,
   "metadata": {
    "collapsed": false
   },
   "outputs": [
    {
     "data": {
      "text/plain": [
       "'No edge found!'"
      ]
     },
     "execution_count": 11,
     "metadata": {},
     "output_type": "execute_result"
    }
   ],
   "source": [
    "G.get_edge_data(1,4, default='No edge found!')"
   ]
  },
  {
   "cell_type": "code",
   "execution_count": 12,
   "metadata": {
    "collapsed": false
   },
   "outputs": [
    {
     "data": {
      "text/plain": [
       "{'color': 'blue', 'weight': 2.0}"
      ]
     },
     "execution_count": 12,
     "metadata": {},
     "output_type": "execute_result"
    }
   ],
   "source": [
    "# If an edge exists you can add an attribute with subscript notation:\n",
    "G[1][2]['color']='blue'\n",
    "G.get_edge_data(1,2)"
   ]
  },
  {
   "cell_type": "code",
   "execution_count": 13,
   "metadata": {
    "collapsed": true
   },
   "outputs": [],
   "source": [
    "# Another way to set and change edge attributes:\n",
    "nx.set_edge_attributes(G, 'another_attribute', 10)\n",
    "nx.set_edge_attributes(G, 'color', 'red')"
   ]
  },
  {
   "cell_type": "code",
   "execution_count": 14,
   "metadata": {
    "collapsed": false
   },
   "outputs": [
    {
     "data": {
      "text/plain": [
       "{'another_attribute': 10, 'color': 'red', 'weight': 2.0}"
      ]
     },
     "execution_count": 14,
     "metadata": {},
     "output_type": "execute_result"
    }
   ],
   "source": [
    "G.get_edge_data(1,2)"
   ]
  },
  {
   "cell_type": "code",
   "execution_count": 15,
   "metadata": {
    "collapsed": true
   },
   "outputs": [],
   "source": [
    "# Get the attributes associated with a particular node.\n",
    "# In this example graph the nodes don't have any attributes."
   ]
  },
  {
   "cell_type": "code",
   "execution_count": 16,
   "metadata": {
    "collapsed": false
   },
   "outputs": [
    {
     "data": {
      "text/plain": [
       "{}"
      ]
     },
     "execution_count": 16,
     "metadata": {},
     "output_type": "execute_result"
    }
   ],
   "source": [
    "G.node[1]"
   ]
  },
  {
   "cell_type": "code",
   "execution_count": 17,
   "metadata": {
    "collapsed": false
   },
   "outputs": [
    {
     "data": {
      "text/plain": [
       "[(1, {}), (2, {}), (3, {}), (4, {})]"
      ]
     },
     "execution_count": 17,
     "metadata": {},
     "output_type": "execute_result"
    }
   ],
   "source": [
    "# Another way to get all nodes with their attributes:\n",
    "G.nodes(data=True)"
   ]
  },
  {
   "cell_type": "markdown",
   "metadata": {},
   "source": [
    "### Now find the shortest path between two nodes:"
   ]
  },
  {
   "cell_type": "code",
   "execution_count": 18,
   "metadata": {
    "collapsed": false
   },
   "outputs": [
    {
     "data": {
      "text/plain": [
       "[1, 2, 4]"
      ]
     },
     "execution_count": 18,
     "metadata": {},
     "output_type": "execute_result"
    }
   ],
   "source": [
    "# Find the path (sequence of nodes):\n",
    "nx.dijkstra_path(G, 1, 4, weight='weight')"
   ]
  },
  {
   "cell_type": "code",
   "execution_count": 19,
   "metadata": {
    "collapsed": false
   },
   "outputs": [
    {
     "data": {
      "text/plain": [
       "3.0"
      ]
     },
     "execution_count": 19,
     "metadata": {},
     "output_type": "execute_result"
    }
   ],
   "source": [
    "# Find the total path length:\n",
    "nx.dijkstra_path_length(G, 1, 4)"
   ]
  },
  {
   "cell_type": "code",
   "execution_count": 20,
   "metadata": {
    "collapsed": false
   },
   "outputs": [
    {
     "data": {
      "text/plain": [
       "({1: 0, 2: 2.0, 3: 1.0, 4: 3.0}, {1: [1], 2: [1, 2], 3: [1, 3], 4: [1, 2, 4]})"
      ]
     },
     "execution_count": 20,
     "metadata": {},
     "output_type": "execute_result"
    }
   ],
   "source": [
    "# This method returns the path and length:\n",
    "nx.single_source_dijkstra(G, 1, 4)"
   ]
  },
  {
   "cell_type": "markdown",
   "metadata": {},
   "source": [
    "### Experiment with ways of exporting the graph data"
   ]
  },
  {
   "cell_type": "markdown",
   "metadata": {},
   "source": [
    "#### Option 1: dict of dicts. Single data structure contains all graph information."
   ]
  },
  {
   "cell_type": "code",
   "execution_count": 21,
   "metadata": {
    "collapsed": false
   },
   "outputs": [
    {
     "data": {
      "text/plain": [
       "{1: {2: {'another_attribute': 10, 'color': 'red', 'weight': 2.0},\n",
       "  3: {'another_attribute': 10, 'color': 'red', 'weight': 1.0}},\n",
       " 2: {1: {'another_attribute': 10, 'color': 'red', 'weight': 2.0},\n",
       "  4: {'another_attribute': 10, 'color': 'red', 'weight': 1.0}},\n",
       " 3: {1: {'another_attribute': 10, 'color': 'red', 'weight': 1.0},\n",
       "  4: {'another_attribute': 10, 'color': 'red', 'weight': 5.0}},\n",
       " 4: {2: {'another_attribute': 10, 'color': 'red', 'weight': 1.0},\n",
       "  3: {'another_attribute': 10, 'color': 'red', 'weight': 5.0}}}"
      ]
     },
     "execution_count": 21,
     "metadata": {},
     "output_type": "execute_result"
    }
   ],
   "source": [
    "nx.to_dict_of_dicts(G)"
   ]
  },
  {
   "cell_type": "markdown",
   "metadata": {},
   "source": [
    "#### Option 2: dict of lists and edge list. The second data structure contains all the necessary information for the graph, but maybe the first enables quicker lookups for connectedness given a node?"
   ]
  },
  {
   "cell_type": "code",
   "execution_count": 22,
   "metadata": {
    "collapsed": false
   },
   "outputs": [
    {
     "data": {
      "text/plain": [
       "{1: [2, 3], 2: [1, 4], 3: [1, 4], 4: [2, 3]}"
      ]
     },
     "execution_count": 22,
     "metadata": {},
     "output_type": "execute_result"
    }
   ],
   "source": [
    "nx.to_dict_of_lists(G)"
   ]
  },
  {
   "cell_type": "code",
   "execution_count": 23,
   "metadata": {
    "collapsed": false
   },
   "outputs": [
    {
     "data": {
      "text/plain": [
       "[(1, 2, {'another_attribute': 10, 'color': 'red', 'weight': 2.0}),\n",
       " (1, 3, {'another_attribute': 10, 'color': 'red', 'weight': 1.0}),\n",
       " (2, 4, {'another_attribute': 10, 'color': 'red', 'weight': 1.0}),\n",
       " (3, 4, {'another_attribute': 10, 'color': 'red', 'weight': 5.0})]"
      ]
     },
     "execution_count": 23,
     "metadata": {},
     "output_type": "execute_result"
    }
   ],
   "source": [
    "nx.to_edgelist(G)"
   ]
  },
  {
   "cell_type": "markdown",
   "metadata": {},
   "source": [
    "#### Option 3: numpy adjacency matrix. The entries indicate edge weights."
   ]
  },
  {
   "cell_type": "code",
   "execution_count": 24,
   "metadata": {
    "collapsed": false
   },
   "outputs": [
    {
     "data": {
      "text/plain": [
       "matrix([[ 0.,  2.,  1.,  0.],\n",
       "        [ 2.,  0.,  0.,  1.],\n",
       "        [ 1.,  0.,  0.,  5.],\n",
       "        [ 0.,  1.,  5.,  0.]])"
      ]
     },
     "execution_count": 24,
     "metadata": {},
     "output_type": "execute_result"
    }
   ],
   "source": [
    "nx.to_numpy_matrix(G)"
   ]
  },
  {
   "cell_type": "markdown",
   "metadata": {},
   "source": [
    "### Export to CSV"
   ]
  },
  {
   "cell_type": "code",
   "execution_count": 25,
   "metadata": {
    "collapsed": true
   },
   "outputs": [],
   "source": [
    "def process_edgelist(edge):\n",
    "    return edge[0], edge[1], edge[2]['weight']"
   ]
  },
  {
   "cell_type": "code",
   "execution_count": 26,
   "metadata": {
    "collapsed": true
   },
   "outputs": [],
   "source": [
    "edgelist = map(process_edgelist, nx.to_edgelist(G))\n",
    "# This writes a CSV of floats, even thought nodes are integers. Not sure if this is an issue.\n",
    "# This might not be an issue if I used Pandas to_csv.\n",
    "np.savetxt('edgelist.csv.gz', edgelist)"
   ]
  }
 ],
 "metadata": {
  "kernelspec": {
   "display_name": "Python 2",
   "language": "python",
   "name": "python2"
  },
  "language_info": {
   "codemirror_mode": {
    "name": "ipython",
    "version": 2
   },
   "file_extension": ".py",
   "mimetype": "text/x-python",
   "name": "python",
   "nbconvert_exporter": "python",
   "pygments_lexer": "ipython2",
   "version": "2.7.10"
  }
 },
 "nbformat": 4,
 "nbformat_minor": 0
}
